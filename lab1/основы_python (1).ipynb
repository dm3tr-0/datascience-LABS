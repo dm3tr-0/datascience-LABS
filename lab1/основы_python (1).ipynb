{
  "nbformat": 4,
  "nbformat_minor": 0,
  "metadata": {
    "colab": {
      "provenance": []
    },
    "kernelspec": {
      "name": "python3",
      "display_name": "Python 3"
    },
    "language_info": {
      "name": "python"
    }
  },
  "cells": [
    {
      "cell_type": "markdown",
      "source": [
        "#Задача 1\n",
        "Написать функцию на вход которой подается строка, состоящая из латинских букв.\n",
        "Функция должна вернуть количество гласных букв (a, e, i, o, u) в этой строке. Написать тесты для кода"
      ],
      "metadata": {
        "id": "M-DGa20PaHnu"
      }
    },
    {
      "cell_type": "code",
      "source": [
        "def countLetters(s):\n",
        "    alp = \"aeiouAEIOU\"\n",
        "    ans = 0\n",
        "    for char in s:\n",
        "        if char in alp:\n",
        "            ans += 1\n",
        "    return ans\n",
        "\n",
        "print(countLetters(\"hello\")) # 2\n",
        "print(countLetters(\"abcdef\")) #2\n",
        "print(countLetters(\"aeiou\")) # 5\n",
        "print(countLetters(\"AEIOU\")) # 5\n",
        "print(countLetters(\"xyz\")) #0\n",
        "print(countLetters(\"\")) #0\n",
        "print(countLetters(\"y06u\")) # 1\n",
        "\n"
      ],
      "metadata": {
        "id": "XvX8X_JJ6PCb",
        "colab": {
          "base_uri": "https://localhost:8080/"
        },
        "outputId": "b731bd60-b5bc-4d42-f6ce-4ca89c82944a"
      },
      "execution_count": 1,
      "outputs": [
        {
          "output_type": "stream",
          "name": "stdout",
          "text": [
            "2\n",
            "2\n",
            "5\n",
            "5\n",
            "0\n",
            "0\n",
            "1\n"
          ]
        }
      ]
    },
    {
      "cell_type": "markdown",
      "source": [
        "# Задача 2\n",
        "Написать функцию на вход, которой подается строка. Функция должна вернуть true, если\n",
        "каждый символ в строке встречается только 1 раз, иначе должна вернуть false. Написать тесты для кода"
      ],
      "metadata": {
        "id": "t2ClV_Y0bbr6"
      }
    },
    {
      "cell_type": "code",
      "source": [
        "def check(s):\n",
        "    return len(s) == len(set(s))\n",
        "\n",
        "print(check('12345')) #true\n",
        "print(check('11234')) #false\n",
        "print(check('abre')) #true\n",
        "print(check('abracadabra')) #false\n",
        "print(check('l0komutive')) #true\n"
      ],
      "metadata": {
        "id": "FppbECao6VIz",
        "colab": {
          "base_uri": "https://localhost:8080/"
        },
        "outputId": "ec09c7a7-1fd1-4f0e-b853-033c71d99b08"
      },
      "execution_count": 3,
      "outputs": [
        {
          "output_type": "stream",
          "name": "stdout",
          "text": [
            "True\n",
            "False\n",
            "True\n",
            "False\n",
            "True\n"
          ]
        }
      ]
    },
    {
      "cell_type": "markdown",
      "source": [
        "# Задача 3\n",
        "Написать функцию, которая принимает положительное число и возвращает количество\n",
        "бит равных 1 в этом числе. Написать тесты для кода"
      ],
      "metadata": {
        "id": "udRiIK1cdt6E"
      }
    },
    {
      "cell_type": "code",
      "source": [
        "def countBits(n):\n",
        "    return bin(n).count('1')\n",
        "\n",
        "print(countBits(3))# 2\n",
        "print(countBits(15))# 4\n",
        "print(countBits(1023))# 10\n",
        "print(countBits(1024))# 1"
      ],
      "metadata": {
        "id": "6tkfDJRz6dp_",
        "colab": {
          "base_uri": "https://localhost:8080/"
        },
        "outputId": "d2230744-981b-4e7b-ccbf-23e7f1e9a40a"
      },
      "execution_count": 4,
      "outputs": [
        {
          "output_type": "stream",
          "name": "stdout",
          "text": [
            "2\n",
            "4\n",
            "10\n",
            "1\n"
          ]
        }
      ]
    },
    {
      "cell_type": "markdown",
      "source": [
        "# Задача 4\n",
        "Написать функцию, которая принимает положительное число. Функция должна вернуть то,\n",
        "сколько раз необходимо перемножать цифры числа или результат перемножения, чтобы\n",
        "получилось число состоящее из одной цифры.\n",
        "Например, для входного числа:\n",
        "· 39 функция должна вернуть 3, так как 3*9=27 => 2*7=14 => 1*4=4\n",
        "· 4 функция должна вернуть 0, так как число уже состоит из одной цифры\n",
        "· 999 функция должна вернуть 4, так как 9*9*9=729 => 7*2*9=126 => 1*2*6=12 =>\n",
        "1*2=2. Написать тесты для кода"
      ],
      "metadata": {
        "id": "26dDUz-Ae17N"
      }
    },
    {
      "cell_type": "code",
      "source": [
        "def magic(n):\n",
        "    ans = 0\n",
        "    while n >= 10:\n",
        "        current = 1\n",
        "        for dig in str(n):\n",
        "            current *= int(dig)\n",
        "        n = current\n",
        "        ans += 1\n",
        "    return ans\n",
        "\n",
        "\n",
        "print(magic(39))#3\n",
        "print(magic(4))#0\n",
        "print(magic(999))#4\n",
        "print(magic(44))#2"
      ],
      "metadata": {
        "id": "BH1A_Mgi6i4G",
        "colab": {
          "base_uri": "https://localhost:8080/"
        },
        "outputId": "5680da73-5bb8-406b-a647-4eb9cc90c0eb"
      },
      "execution_count": 5,
      "outputs": [
        {
          "output_type": "stream",
          "name": "stdout",
          "text": [
            "3\n",
            "0\n",
            "4\n",
            "2\n"
          ]
        }
      ]
    },
    {
      "cell_type": "markdown",
      "source": [
        "# Задача 5\n",
        "Написать функцию, которая принимает два целочисленных вектора одинаковой длины и\n",
        "возвращает среднеквадратическое отклонение двух векторов. Написать тесты для кода"
      ],
      "metadata": {
        "id": "0nS-kIa8g8vd"
      }
    },
    {
      "cell_type": "code",
      "source": [
        "def mse(v1, v2):\n",
        "    if len(v1) != len(v2):\n",
        "        return \"error\"\n",
        "    sqd = [(x - y) ** 2 for x, y in zip(v1, v2)]\n",
        "    msd = sum(sqd) / len(v1)\n",
        "    return msd ** .5\n",
        "\n",
        "print(mse([1, 2, 3], [1, 2, 3])) #0.0\n",
        "print(mse([1, 2, 3], [4, 5, 6])) #3.0\n",
        "print(mse([-1, -2, -3], [1, 2, 3])) #4.3\n"
      ],
      "metadata": {
        "id": "8iphx4LM6xbx",
        "colab": {
          "base_uri": "https://localhost:8080/"
        },
        "outputId": "b3beacbe-6186-4b71-c492-2b72bc5e80a2"
      },
      "execution_count": 9,
      "outputs": [
        {
          "output_type": "stream",
          "name": "stdout",
          "text": [
            "0.0\n",
            "3.0\n",
            "4.320493798938574\n"
          ]
        }
      ]
    },
    {
      "cell_type": "markdown",
      "source": [
        "# Задача 6\n",
        "Написать функцию, принимающая целое положительное число. Функция должна вернуть\n",
        "строку вида “(n1**p1)(n2**p2)…(nk**pk)” представляющая разложение числа на простые\n",
        "множители (если pi == 1, то выводить только ni).\n",
        "Например, для числа 86240 функция должна вернуть “(2**5)(5)(7**2)(11)”. Написать тесты для кода"
      ],
      "metadata": {
        "id": "vpIPKL439zkw"
      }
    },
    {
      "cell_type": "code",
      "source": [
        "def primeFactor(n):\n",
        "    i = 2\n",
        "    factors = dict()\n",
        "    while i * i <= n:\n",
        "        while n % i == 0:\n",
        "            if i in factors:\n",
        "                factors[i] += 1\n",
        "            else:\n",
        "                factors[i] = 1\n",
        "            n //= i\n",
        "        i += 1\n",
        "    if n > 1:\n",
        "        factors[n] = 1\n",
        "\n",
        "    result = \"\"\n",
        "    for factor, power in sorted(factors.items()):\n",
        "        if power == 1:\n",
        "            result += f\"({factor})\"\n",
        "        else:\n",
        "            result += f\"({factor}**{power})\"\n",
        "    return result\n",
        "\n",
        "print(primeFactor(86240))#(2**5)(5)(7**2)(11)\n",
        "print(primeFactor(17))#(17)"
      ],
      "metadata": {
        "id": "pFebmcZk94Jw",
        "colab": {
          "base_uri": "https://localhost:8080/"
        },
        "outputId": "9293fdfc-948e-4b35-aad8-8028fb4a007b"
      },
      "execution_count": 12,
      "outputs": [
        {
          "output_type": "stream",
          "name": "stdout",
          "text": [
            "(2**5)(5)(7**2)(11)\n",
            "(17)\n"
          ]
        }
      ]
    },
    {
      "cell_type": "markdown",
      "source": [
        "# Задача 7\n",
        "Написать функцию, принимающая целое число n, задающее количество кубиков. Функция\n",
        "должна определить, можно ли из данного кол-ва кубиков построить пирамиду, то есть\n",
        "можно ли представить число n как 1^2+2^2+3^2+…+k^2. Если можно, то функция должна\n",
        "вернуть k, иначе строку “It is impossible”. Написать тесты для кода"
      ],
      "metadata": {
        "id": "ps2s0BudX7A2"
      }
    },
    {
      "cell_type": "code",
      "source": [
        "def pyramid(k):\n",
        "    for n in range(k + 1):\n",
        "        if 2 * n**3 + 3 * n**2 + n - 6 * k == 0:\n",
        "            return n\n",
        "    return \"It is impossible\"\n",
        "\n",
        "print(pyramid(5))#2 : 1^2 + 2^2\n",
        "print(pyramid(1))#1 : 1^2\n",
        "print(pyramid(111))#impossible\n",
        "print(pyramid(999))#impossible\n",
        "print(pyramid(140))#7 : 1^2 +2^2 +3^2 +4^2 +5^2 +6^2 +7^2\n"
      ],
      "metadata": {
        "id": "3YPjEXxhX_YT",
        "colab": {
          "base_uri": "https://localhost:8080/"
        },
        "outputId": "6243b6e4-e34e-4f90-d530-17a0884c976f"
      },
      "execution_count": 13,
      "outputs": [
        {
          "output_type": "stream",
          "name": "stdout",
          "text": [
            "2\n",
            "1\n",
            "It is impossible\n",
            "It is impossible\n",
            "7\n"
          ]
        }
      ]
    },
    {
      "cell_type": "markdown",
      "source": [
        "# Задача 8\n",
        "Функция принимает на вход положительное число и определяет является ли оно сбалансированным, т.е. сумма цифр до средних равна сумме цифр после. Средними в случае нечетного числа цифр считать одну цифру, в случае четного - две средних. Написать тесты для кода"
      ],
      "metadata": {
        "id": "KeKgmIdAQMEJ"
      }
    },
    {
      "cell_type": "code",
      "source": [
        "def balance(n):\n",
        "    n = str(n)\n",
        "    return sum([int(x) for x in n[:len(n)//2]]) == sum([int(y) for y in n[len(n)//2 + len(n)%2:]])\n",
        "\n",
        "print(balance(121)) #True       1=1\n",
        "print(balance(123456))# False   1+2+3 != 4+5+6"
      ],
      "metadata": {
        "id": "gMAAqtqlQrZt",
        "colab": {
          "base_uri": "https://localhost:8080/"
        },
        "outputId": "27c6401f-12f7-4c5d-b637-d57a0edf05cc"
      },
      "execution_count": 17,
      "outputs": [
        {
          "output_type": "stream",
          "name": "stdout",
          "text": [
            "True\n",
            "False\n"
          ]
        }
      ]
    }
  ]
}